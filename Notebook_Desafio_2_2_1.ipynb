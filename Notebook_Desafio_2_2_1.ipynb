{
 "cells": [
  {
   "cell_type": "markdown",
   "metadata": {
    "id": "KCSxdgA-kBE2"
   },
   "source": [
    "![Captura de tela 2021-05-23 150059 (1).png](data:image/png;base64,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)"
   ]
  },
  {
   "cell_type": "code",
   "execution_count": 322,
   "metadata": {
    "id": "ouVGyqegj_ku"
   },
   "outputs": [],
   "source": [
    "import pandas as pd\n",
    "import numpy as np\n",
    "import seaborn as sns\n",
    "import matplotlib.pyplot as plt"
   ]
  },
  {
   "cell_type": "markdown",
   "metadata": {
    "id": "diY8XJUOj_k0"
   },
   "source": [
    "# DataFrame das acomodações"
   ]
  },
  {
   "cell_type": "code",
   "execution_count": 323,
   "metadata": {
    "id": "LX5SYW-4j_k5",
    "outputId": "b2543079-5ee0-4d9b-d2da-8731c03a9e2c"
   },
   "outputs": [],
   "source": [
    "df=pd.read_csv('acomodacoes.csv')"
   ]
  },
  {
   "cell_type": "markdown",
   "metadata": {
    "id": "iWH8BtJxj_k5"
   },
   "source": [
    "# Listando os dados NaN e as colunas"
   ]
  },
  {
   "cell_type": "code",
   "execution_count": 324,
   "metadata": {
    "id": "dEnqrr8ij_k6",
    "outputId": "b39d3077-0249-428b-ec21-c3450258e08c"
   },
   "outputs": [
    {
     "data": {
      "text/plain": [
       "id                                 0.000000\n",
       "link_da_acomodacão                 0.000000\n",
       "nome                               0.180928\n",
       "resumo                             6.092244\n",
       "o_espaço                          38.436898\n",
       "descrição                          2.758416\n",
       "visao_geral_bairro                44.125760\n",
       "observações                       66.640961\n",
       "transito                          44.419398\n",
       "acesso                            52.448465\n",
       "interacao                         50.164615\n",
       "regras_da_casa                    48.319739\n",
       "link_da_foto                       0.000000\n",
       "host_id                            0.000000\n",
       "host_url                           0.000000\n",
       "nome_host                          0.059321\n",
       "inicio_host                        0.059321\n",
       "superhost                          0.059321\n",
       "numero_de_acomodacoes_host         0.059321\n",
       "verificações_do_host               0.000000\n",
       "host_tem_foto_perfil               0.059321\n",
       "host_tem_identidade_verificada     0.059321\n",
       "bairro                             5.807504\n",
       "cidade                             0.243215\n",
       "estado                             0.139404\n",
       "CEP                                5.057096\n",
       "localização_é_exata                0.000000\n",
       "tipo_de_propriedade                0.000000\n",
       "tipo_de_quarto                     0.000000\n",
       "banheiros                          0.160166\n",
       "quartos                            0.124574\n",
       "camas                              0.142370\n",
       "facilidades                        0.000000\n",
       "metros_quadrados                  98.531811\n",
       "preço                              0.000000\n",
       "taxa_de_limpeza                   32.578971\n",
       "pessoas_inclusas_no_preço          0.000000\n",
       "noites_mínimas                     0.000000\n",
       "noites_máximas                     0.000000\n",
       "número de reviews                  0.000000\n",
       "primeira_review                   43.203322\n",
       "última_review                     43.203322\n",
       "avaliação_geral                   45.742251\n",
       "avaliação_limpeza                 45.780810\n",
       "avaliação_checkin                 45.798606\n",
       "avaliacao_comunicação_host        45.780810\n",
       "avaliação_localização             45.789708\n",
       "avaliações_por_mês                43.203322\n",
       "dtype: float64"
      ]
     },
     "execution_count": 324,
     "metadata": {},
     "output_type": "execute_result"
    }
   ],
   "source": [
    "df.isnull().mean()*100"
   ]
  },
  {
   "cell_type": "markdown",
   "metadata": {
    "id": "6I3I6Ukuj_k7"
   },
   "source": [
    "# Filtramos por acomodações no bairro 'Centro', para ficar próximo das principais atrações da cidade, inclusive o Museu de Belas Artes"
   ]
  },
  {
   "cell_type": "code",
   "execution_count": 325,
   "metadata": {
    "id": "sMtCszqjj_k7"
   },
   "outputs": [],
   "source": [
    "acomo_centro=df.loc[df['bairro']=='Centro']"
   ]
  },
  {
   "cell_type": "markdown",
   "metadata": {
    "id": "gwRfQGdvj_k7"
   },
   "source": [
    "# Eliminar acomodações que não suportam pelo menos 3 pessoas"
   ]
  },
  {
   "cell_type": "code",
   "execution_count": 326,
   "metadata": {
    "id": "jMHhOXFej_k8",
    "outputId": "213c9f3c-a3d1-4391-d017-210eff070bbd"
   },
   "outputs": [],
   "source": [
    "acomo_centro=acomo_centro.loc[acomo_centro['pessoas_inclusas_no_preço'] >=3]"
   ]
  },
  {
   "cell_type": "markdown",
   "metadata": {
    "id": "haOOZ3Jtj_k8"
   },
   "source": [
    "# Como tem uma criança de 5 anos, tiramos as acomodações divididas por questões de segurança"
   ]
  },
  {
   "cell_type": "code",
   "execution_count": 327,
   "metadata": {
    "id": "8zxZBRelj_k9",
    "outputId": "e94b2368-43f0-4bea-87e7-f6e74d880d25"
   },
   "outputs": [],
   "source": [
    "acomo_centro=acomo_centro.loc[acomo_centro['tipo_de_quarto'] =='Entire home/apt']"
   ]
  },
  {
   "cell_type": "markdown",
   "metadata": {
    "id": "lqmcWUjLj_k9"
   },
   "source": [
    "# Visualizando os preços, removendo o cifrão e transformando os dados em float"
   ]
  },
  {
   "cell_type": "code",
   "execution_count": 328,
   "metadata": {
    "id": "9xZKK-trj_k9",
    "outputId": "18ce978a-2a29-42e2-a373-db5e49f88304"
   },
   "outputs": [],
   "source": [
    "acomo_centro['preço']=acomo_centro['preço'].str.replace(r'$', '')\n"
   ]
  },
  {
   "cell_type": "code",
   "execution_count": 329,
   "metadata": {},
   "outputs": [],
   "source": [
    "acomo_centro['preço']=acomo_centro['preço'].str.replace(r',', '').astype(float)"
   ]
  },
  {
   "cell_type": "markdown",
   "metadata": {
    "id": "VP1cOKyOj_k9"
   },
   "source": [
    "# Filtrando acomodações dentro do orçamento da família"
   ]
  },
  {
   "cell_type": "code",
   "execution_count": 330,
   "metadata": {
    "id": "xOMkse0kj_k-"
   },
   "outputs": [],
   "source": [
    "acomo_centro['preço'].sort_values(ascending=False)\n",
    "acomo_centro=acomo_centro.loc[acomo_centro['preço'] <=252]"
   ]
  },
  {
   "cell_type": "markdown",
   "metadata": {
    "id": "syUmOXlyj_k-"
   },
   "source": [
    "# Filtrando as acomodações por 'superhost'"
   ]
  },
  {
   "cell_type": "code",
   "execution_count": 331,
   "metadata": {
    "id": "CoBohcU1j_k-"
   },
   "outputs": [],
   "source": [
    "acomo_centro=acomo_centro.loc[acomo_centro['superhost']== 't']"
   ]
  },
  {
   "cell_type": "markdown",
   "metadata": {},
   "source": [
    "# Pela preferencia do perfil 1 , é necessário uma acomodação com Wi-Fi. Portanto, iremos filtrar as descrições"
   ]
  },
  {
   "cell_type": "code",
   "execution_count": 332,
   "metadata": {},
   "outputs": [
    {
     "data": {
      "text/plain": [
       "'Quarto e sala, 3 camas, TV, ventilador de teto, geladeira, micro ondas, sanduicheira, liquidificador, wi-fi, perto da Av. Presidente Vargas, Sambódromo, Candelária, Central do Brasil, Cruz Vermelha, Supermercado.  Local de comércio de utensilios de cozinha, calmo final de semana, apartamento de fundos, tranquilo, banheiro e cozinha reformados, portaria em obra no momento. Ótimo para família. Estarei sempre disponível,  Check in  24 horas. Local tranquilo com 3 camas. Todos os utensílios de cozinha, tábua de passar roupas, ferro elétrico. Wi-fi, tv Apartamento inteiro à disposição Estarei disponível para todas as informações. Acesso para a Praça Mauá (Museu do amanhã), barcas, metrô, central do Brasil (ferrovia). Av. Presidente Vargas e Rio Branco, Rodoviária. Campo de Santana para caminhada, com muito verde. Ao lado do sambódromo (onde tem os desfiles de carnaval) Rua de comércio de utensílios de cozinha para hotéis, fogão industrial, panelas grandes. Final de semana tem menos moviment'"
      ]
     },
     "execution_count": 332,
     "metadata": {},
     "output_type": "execute_result"
    }
   ],
   "source": [
    "acomo_centro['descrição'].iloc[0]"
   ]
  },
  {
   "cell_type": "code",
   "execution_count": 333,
   "metadata": {},
   "outputs": [
    {
     "data": {
      "text/plain": [
       "'We stayed in the same block from Rio Scenarium  and near the Metropolitan Cathedral, theaters (including the Municipal) and all the bars and restaurants of Lapa venues . On the first Saturday of each month is held the antiques fair of Lavradio Street ( Must ) . Furnished, equipped kitchen , laundry, WiFi , TV with 150 channels , bedding and bath , bright and airy environment. Space for couples, families ( with children) , business trip and groups up to 6 people . The apartment has been designed to make guests feel more at home. It comfortably accommodates 8 people. It has two bedrooms with cabinets with hangers in both, one of them with queen-size double bed and a single box bunk bed, another with bunk bed and a double sofa bed in the living room. It has air conditioning in both bedrooms (no air conditioner in the room) and fans in all environments. The living room has a very comfortable sofa, with a smartv and HDMI input for those passionate about movies and / or netflix, wi-fi intern'"
      ]
     },
     "execution_count": 333,
     "metadata": {},
     "output_type": "execute_result"
    }
   ],
   "source": [
    "acomo_centro['descrição'].iloc[1]"
   ]
  },
  {
   "cell_type": "code",
   "execution_count": 334,
   "metadata": {},
   "outputs": [
    {
     "data": {
      "text/plain": [
       "'Apartamento espaçoso e seguro com quarto e sala grande com cozinha americana completa, WI FI, TV e ar condicionado. O quarto possui uma cama de casal e uma bicama, ar condicionado e armário. A Sala possui TV com antena do prédio, ventilador, sofá cama para 2 pessoas. A cozinha possui geladeira, microondas, fogão e utensílios de cozinha. O banheiro tem chuveiro quente e máquina de lavar. O apê tem roupa de cama e toalhas, sabonete e demais itens básicos. Perto de todas as atrações da Lapa O apê é silencioso, andar alto, localizado na Lapa, perto de comércio e atrações turísticas. Ao apartamento todo. Estou disponível para dúvidas. Basta mandar uma mensagem ou me adicionar como Breno Espozel nas redes sociais. O bairro da Lapa é repleto de atraçôes diurnas e noturnas. Não há estacionamento no prédio mas há estacionamento nas redondezas. Todavia é fácil pegar vários transportes públicos e privados. Há estacionamento privado nas redondezas por 20 reais 12h.'"
      ]
     },
     "execution_count": 334,
     "metadata": {},
     "output_type": "execute_result"
    }
   ],
   "source": [
    "acomo_centro['descrição'].iloc[2]"
   ]
  },
  {
   "cell_type": "code",
   "execution_count": 335,
   "metadata": {},
   "outputs": [
    {
     "data": {
      "text/plain": [
       "'O apartamwnto possui cama de casal e mais dois colchões. Tv, WIFI e dois ventiladores. O apartamento está situado em rua segura entre o prédio da Petrobras e a maior delegacia do Centro.  Ele está a 400 metros da estação de metrô da Carioca e perto das atrações da Lapa, tais como os Arcos da Lapa, Escadaria Selaron, Fundição Progresso e Circo Voador. Além da cama de casal coloco dois colchões de solteiro para poder oferecer o espaço para até 4 pessoas. Através do (Hidden by Airbnb) . Andando vc está na Lapa e no Centro. Em 20 minutos de transporte nas praias e no Maracanã. Há estacionamento privado nas redondezas por 20 reais 12h.'"
      ]
     },
     "execution_count": 335,
     "metadata": {},
     "output_type": "execute_result"
    }
   ],
   "source": [
    "acomo_centro['descrição'].iloc[3]"
   ]
  },
  {
   "cell_type": "code",
   "execution_count": 336,
   "metadata": {},
   "outputs": [
    {
     "data": {
      "text/plain": [
       "'Lapa;/Centro. Ao lado do metrô! Estúdio todo reformado, com cama de casal, sofá cama, ar split, TV, internet. Ao lado do metrô da Cinelândia e do VLT. A poucos minutos a pé do Aeroporto Santos Dumont. Ao lado do Teatro Rival. Ideal para quem quer a praticidade de ter o metrô à disposição, perto da Lapa, do aeroporto. Praticidade e comodidade. Metrô, Aeroporto, VLT, Lapa.'"
      ]
     },
     "execution_count": 336,
     "metadata": {},
     "output_type": "execute_result"
    }
   ],
   "source": [
    "acomo_centro['descrição'].iloc[4]"
   ]
  },
  {
   "cell_type": "markdown",
   "metadata": {},
   "source": [
    "# As 5 acomodações se mantêm"
   ]
  },
  {
   "cell_type": "markdown",
   "metadata": {},
   "source": [
    "# Como as 5 acomodações estão localizadas no mesmo bairro, gastos com transporte serão os mesmos.Assim, vamos para os passeios turísticos."
   ]
  },
  {
   "cell_type": "markdown",
   "metadata": {
    "id": "NLHgFwSBj_lA"
   },
   "source": [
    "# 1° Ponto turístico obrigatório: Museu de Belas Artes\n",
    "    Distância até a acomodação: 0,95 Km\n",
    "    Preço ingresso família(até 4 pessoas): R$8,00"
   ]
  },
  {
   "cell_type": "code",
   "execution_count": 337,
   "metadata": {
    "id": "Gnnkr0Wpj_lA",
    "outputId": "d1cc05af-675e-4c7e-de8f-5979cfcc7252"
   },
   "outputs": [
    {
     "name": "stdout",
     "output_type": "stream",
     "text": [
      "Valor gasto com a visita ao Museu Belas Artes: R$13.70\n"
     ]
    }
   ],
   "source": [
    "preco_museu= 8 + (0.95 * 2 * 3)\n",
    "print(f'Valor gasto com a visita ao Museu Belas Artes: R${preco_museu}0')"
   ]
  },
  {
   "cell_type": "markdown",
   "metadata": {
    "id": "6r6FxSx4j_lA"
   },
   "source": [
    "# 2° e 3° ponto turístico: Praia de Joatinga e Mirante do Joá\n",
    "    Distância a partir da acomodação: Ida= 20,5 Km; Volta com parada Mirante do Joá= 21,7 Km\n",
    "    Entrada franca nos dois locais"
   ]
  },
  {
   "cell_type": "code",
   "execution_count": 338,
   "metadata": {
    "id": "C5JsjzPfj_lB",
    "outputId": "d6b36c63-981a-4924-b77f-4f6ab3636a7a"
   },
   "outputs": [
    {
     "name": "stdout",
     "output_type": "stream",
     "text": [
      "Valor gasto com visita a Praia de Joatinga com parada no Mirante do Joá: R$126.60\n"
     ]
    }
   ],
   "source": [
    "preco_praia_joatinga= (20.5 + 21.7) * 3\n",
    "print('Valor gasto com visita a Praia de Joatinga com parada no Mirante do Joá: R$%.2f' %(preco_praia_joatinga))"
   ]
  },
  {
   "cell_type": "markdown",
   "metadata": {
    "id": "-yeEYcX2j_lB"
   },
   "source": [
    "# 4° Ponto turístico: AquaRio\n",
    "    Distância até a acomodação: 4,1 Km\n",
    "    Entrada: Vip Expresso= 160,00 reais ; Meia entrada= 70,00 reais"
   ]
  },
  {
   "cell_type": "code",
   "execution_count": 339,
   "metadata": {
    "id": "npGnWtCpj_lB",
    "outputId": "1cec360b-e5f1-4eeb-dd26-f8703661938e"
   },
   "outputs": [
    {
     "name": "stdout",
     "output_type": "stream",
     "text": [
      "Valor gasto com a visita ao AquaRio: R$414.60\n"
     ]
    }
   ],
   "source": [
    "preco_aquario= (4.1 * 2 * 3) + (160 * 2) + 70\n",
    "print('Valor gasto com a visita ao AquaRio: R$%.2f' %(preco_aquario))"
   ]
  },
  {
   "cell_type": "markdown",
   "metadata": {
    "id": "fnKIeEHlj_lC"
   },
   "source": [
    "# 5° Ponto turístico: Passeio de bondinho no Pão de Açucar\n",
    "    Distância até a acomodação: 9,1 Km\n",
    "    Entrada: Criança menor que 6 anos não paga; Ingresso adulto= 114,00 reais"
   ]
  },
  {
   "cell_type": "code",
   "execution_count": 340,
   "metadata": {
    "id": "IDtbtZz4j_lC",
    "outputId": "a70199c0-3af4-467d-af26-afbde19479b3"
   },
   "outputs": [
    {
     "name": "stdout",
     "output_type": "stream",
     "text": [
      "Valor gasto com a visita ao Pão de Açucar: R$282.60\n"
     ]
    }
   ],
   "source": [
    "preco_pao_de_acucar= (9.1 * 2 * 3) + (114 * 2)\n",
    "print('Valor gasto com a visita ao Pão de Açucar: R$%.2f' %(preco_pao_de_acucar))"
   ]
  },
  {
   "cell_type": "markdown",
   "metadata": {
    "id": "DjuUpTu9j_lC"
   },
   "source": [
    "# 6° Ponto turístico: Cazota Bar"
   ]
  },
  {
   "cell_type": "code",
   "execution_count": 341,
   "metadata": {
    "id": "wqm6iAFJj_lC",
    "outputId": "e0e2322b-1260-405d-d58d-0f70bff91b62"
   },
   "outputs": [
    {
     "name": "stdout",
     "output_type": "stream",
     "text": [
      "Valor gasto com a visita ao Cazota Bar: R$104.80\n"
     ]
    }
   ],
   "source": [
    "#Distância até a acomodação: 0,8 Km\n",
    "#Entrada franca, consumação a parte ; Valor médio gasto até 3 pessoas: 100 reais\n",
    "\n",
    "valor_cazota= (0.8 * 2 * 3) + 100\n",
    "print('Valor gasto com a visita ao Cazota Bar: R$%.2f' %(valor_cazota))"
   ]
  },
  {
   "cell_type": "markdown",
   "metadata": {},
   "source": [
    "# Gasto com os passeios turísticos"
   ]
  },
  {
   "cell_type": "code",
   "execution_count": 342,
   "metadata": {},
   "outputs": [
    {
     "name": "stdout",
     "output_type": "stream",
     "text": [
      "Gasto total dos passeios turisticos= R$942.30\n"
     ]
    }
   ],
   "source": [
    "gastos_passeios=preco_museu + preco_praia_joatinga + preco_aquario + preco_pao_de_acucar+valor_cazota\n",
    "print(\"Gasto total dos passeios turisticos= R$%.2f\" %(gastos_passeios))"
   ]
  },
  {
   "cell_type": "markdown",
   "metadata": {
    "id": "3JVktqmhj_k-"
   },
   "source": [
    "# Removendo o cifrão da coluna Taxa de limpeza"
   ]
  },
  {
   "cell_type": "code",
   "execution_count": 343,
   "metadata": {},
   "outputs": [],
   "source": [
    "acomo_centro['taxa_de_limpeza']=acomo_centro['taxa_de_limpeza'].str.replace(r'$', '')"
   ]
  },
  {
   "cell_type": "code",
   "execution_count": 344,
   "metadata": {},
   "outputs": [],
   "source": [
    "acomo_centro['taxa_de_limpeza']=acomo_centro['taxa_de_limpeza'].astype(float)"
   ]
  },
  {
   "cell_type": "markdown",
   "metadata": {},
   "source": [
    "# Calculando gastos com cada estadia ( taxa de limpeza + 4*preço)"
   ]
  },
  {
   "cell_type": "code",
   "execution_count": 345,
   "metadata": {},
   "outputs": [],
   "source": [
    "quantidade_acomo=acomo_centro.count()\n",
    "gastos_acomos=[]\n",
    "for i in range(5):\n",
    "    id_acomo=acomo_centro['id'].iloc[i]\n",
    "    gastos_acomos.append((acomo_centro['taxa_de_limpeza'].iloc[i]) + (acomo_centro['preço'].iloc[i]) * 4)"
   ]
  },
  {
   "cell_type": "markdown",
   "metadata": {},
   "source": [
    "# Como temos um orçamento de 1500 reais, vamos analisar qual acomodação se encaixa nesta condição"
   ]
  },
  {
   "cell_type": "code",
   "execution_count": 346,
   "metadata": {},
   "outputs": [
    {
     "name": "stdout",
     "output_type": "stream",
     "text": [
      "A acomodaçao cujo id:13781445 esta dentro do orçamento = R$1496.3000000000002\n",
      "A acomodaçao cujo id:32165301 esta dentro do orçamento = R$1498.3000000000002\n",
      "A acomodaçao cujo id:32500735 esta dentro do orçamento = R$1414.3000000000002\n"
     ]
    }
   ],
   "source": [
    "for i in range(5):\n",
    "    acomo_id=acomo_centro['id'].iloc[i]\n",
    "    gasto_total=gastos_passeios+gastos_acomos[i]\n",
    "    if gasto_total<1500:\n",
    "        print(f\"A acomodaçao cujo id:{acomo_id} esta dentro do orçamento = R${gasto_total}\")\n",
    "    "
   ]
  },
  {
   "cell_type": "code",
   "execution_count": 347,
   "metadata": {},
   "outputs": [
    {
     "data": {
      "text/html": [
       "<div>\n",
       "<style scoped>\n",
       "    .dataframe tbody tr th:only-of-type {\n",
       "        vertical-align: middle;\n",
       "    }\n",
       "\n",
       "    .dataframe tbody tr th {\n",
       "        vertical-align: top;\n",
       "    }\n",
       "\n",
       "    .dataframe thead th {\n",
       "        text-align: right;\n",
       "    }\n",
       "</style>\n",
       "<table border=\"1\" class=\"dataframe\">\n",
       "  <thead>\n",
       "    <tr style=\"text-align: right;\">\n",
       "      <th></th>\n",
       "      <th>id</th>\n",
       "      <th>link_da_acomodacão</th>\n",
       "      <th>nome</th>\n",
       "      <th>resumo</th>\n",
       "      <th>o_espaço</th>\n",
       "      <th>descrição</th>\n",
       "      <th>visao_geral_bairro</th>\n",
       "      <th>observações</th>\n",
       "      <th>transito</th>\n",
       "      <th>acesso</th>\n",
       "      <th>...</th>\n",
       "      <th>noites_máximas</th>\n",
       "      <th>número de reviews</th>\n",
       "      <th>primeira_review</th>\n",
       "      <th>última_review</th>\n",
       "      <th>avaliação_geral</th>\n",
       "      <th>avaliação_limpeza</th>\n",
       "      <th>avaliação_checkin</th>\n",
       "      <th>avaliacao_comunicação_host</th>\n",
       "      <th>avaliação_localização</th>\n",
       "      <th>avaliações_por_mês</th>\n",
       "    </tr>\n",
       "  </thead>\n",
       "  <tbody>\n",
       "    <tr>\n",
       "      <th>14371</th>\n",
       "      <td>13781445</td>\n",
       "      <td>https://www.airbnb.com/rooms/13781445</td>\n",
       "      <td>Ap. inteiro. Quarto e sala. Centro, sambódromo.</td>\n",
       "      <td>Quarto e sala, 3 camas, TV, ventilador de teto...</td>\n",
       "      <td>Local tranquilo com 3 camas. Todos os utensíli...</td>\n",
       "      <td>Quarto e sala, 3 camas, TV, ventilador de teto...</td>\n",
       "      <td>Acesso para a Praça Mauá (Museu do amanhã), ba...</td>\n",
       "      <td>Deixo o hóspede a vontade e me disponho a orie...</td>\n",
       "      <td>Local bom para acesso ao comércio. Estacioname...</td>\n",
       "      <td>Apartamento inteiro à disposição</td>\n",
       "      <td>...</td>\n",
       "      <td>1125</td>\n",
       "      <td>19</td>\n",
       "      <td>2016-08-19</td>\n",
       "      <td>2019-03-26</td>\n",
       "      <td>98.0</td>\n",
       "      <td>10.0</td>\n",
       "      <td>10.0</td>\n",
       "      <td>10.0</td>\n",
       "      <td>9.0</td>\n",
       "      <td>0.48</td>\n",
       "    </tr>\n",
       "  </tbody>\n",
       "</table>\n",
       "<p>1 rows × 48 columns</p>\n",
       "</div>"
      ],
      "text/plain": [
       "             id                     link_da_acomodacão  \\\n",
       "14371  13781445  https://www.airbnb.com/rooms/13781445   \n",
       "\n",
       "                                                  nome  \\\n",
       "14371  Ap. inteiro. Quarto e sala. Centro, sambódromo.   \n",
       "\n",
       "                                                  resumo  \\\n",
       "14371  Quarto e sala, 3 camas, TV, ventilador de teto...   \n",
       "\n",
       "                                                o_espaço  \\\n",
       "14371  Local tranquilo com 3 camas. Todos os utensíli...   \n",
       "\n",
       "                                               descrição  \\\n",
       "14371  Quarto e sala, 3 camas, TV, ventilador de teto...   \n",
       "\n",
       "                                      visao_geral_bairro  \\\n",
       "14371  Acesso para a Praça Mauá (Museu do amanhã), ba...   \n",
       "\n",
       "                                             observações  \\\n",
       "14371  Deixo o hóspede a vontade e me disponho a orie...   \n",
       "\n",
       "                                                transito  \\\n",
       "14371  Local bom para acesso ao comércio. Estacioname...   \n",
       "\n",
       "                                 acesso  ... noites_máximas número de reviews  \\\n",
       "14371  Apartamento inteiro à disposição  ...           1125                19   \n",
       "\n",
       "      primeira_review  última_review avaliação_geral avaliação_limpeza  \\\n",
       "14371      2016-08-19     2019-03-26            98.0              10.0   \n",
       "\n",
       "      avaliação_checkin avaliacao_comunicação_host  avaliação_localização  \\\n",
       "14371              10.0                       10.0                    9.0   \n",
       "\n",
       "      avaliações_por_mês  \n",
       "14371               0.48  \n",
       "\n",
       "[1 rows x 48 columns]"
      ]
     },
     "execution_count": 347,
     "metadata": {},
     "output_type": "execute_result"
    }
   ],
   "source": [
    "acomo_centro.loc[acomo_centro['id']==13781445]"
   ]
  },
  {
   "cell_type": "code",
   "execution_count": 348,
   "metadata": {},
   "outputs": [
    {
     "data": {
      "text/html": [
       "<div>\n",
       "<style scoped>\n",
       "    .dataframe tbody tr th:only-of-type {\n",
       "        vertical-align: middle;\n",
       "    }\n",
       "\n",
       "    .dataframe tbody tr th {\n",
       "        vertical-align: top;\n",
       "    }\n",
       "\n",
       "    .dataframe thead th {\n",
       "        text-align: right;\n",
       "    }\n",
       "</style>\n",
       "<table border=\"1\" class=\"dataframe\">\n",
       "  <thead>\n",
       "    <tr style=\"text-align: right;\">\n",
       "      <th></th>\n",
       "      <th>id</th>\n",
       "      <th>link_da_acomodacão</th>\n",
       "      <th>nome</th>\n",
       "      <th>resumo</th>\n",
       "      <th>o_espaço</th>\n",
       "      <th>descrição</th>\n",
       "      <th>visao_geral_bairro</th>\n",
       "      <th>observações</th>\n",
       "      <th>transito</th>\n",
       "      <th>acesso</th>\n",
       "      <th>...</th>\n",
       "      <th>noites_máximas</th>\n",
       "      <th>número de reviews</th>\n",
       "      <th>primeira_review</th>\n",
       "      <th>última_review</th>\n",
       "      <th>avaliação_geral</th>\n",
       "      <th>avaliação_limpeza</th>\n",
       "      <th>avaliação_checkin</th>\n",
       "      <th>avaliacao_comunicação_host</th>\n",
       "      <th>avaliação_localização</th>\n",
       "      <th>avaliações_por_mês</th>\n",
       "    </tr>\n",
       "  </thead>\n",
       "  <tbody>\n",
       "    <tr>\n",
       "      <th>27544</th>\n",
       "      <td>32165301</td>\n",
       "      <td>https://www.airbnb.com/rooms/32165301</td>\n",
       "      <td>Apê seguro, espaçoso e bem localizado na Lapa!!!</td>\n",
       "      <td>Apartamento espaçoso e seguro com quarto e sal...</td>\n",
       "      <td>O apê é silencioso, andar alto, localizado na ...</td>\n",
       "      <td>Apartamento espaçoso e seguro com quarto e sal...</td>\n",
       "      <td>O bairro da Lapa é repleto de atraçôes diurnas...</td>\n",
       "      <td>Há estacionamento privado nas redondezas por 2...</td>\n",
       "      <td>Não há estacionamento no prédio mas há estacio...</td>\n",
       "      <td>Ao apartamento todo.</td>\n",
       "      <td>...</td>\n",
       "      <td>1125</td>\n",
       "      <td>70</td>\n",
       "      <td>2019-02-19</td>\n",
       "      <td>2019-11-19</td>\n",
       "      <td>97.0</td>\n",
       "      <td>9.0</td>\n",
       "      <td>10.0</td>\n",
       "      <td>10.0</td>\n",
       "      <td>10.0</td>\n",
       "      <td>7.58</td>\n",
       "    </tr>\n",
       "  </tbody>\n",
       "</table>\n",
       "<p>1 rows × 48 columns</p>\n",
       "</div>"
      ],
      "text/plain": [
       "             id                     link_da_acomodacão  \\\n",
       "27544  32165301  https://www.airbnb.com/rooms/32165301   \n",
       "\n",
       "                                                   nome  \\\n",
       "27544  Apê seguro, espaçoso e bem localizado na Lapa!!!   \n",
       "\n",
       "                                                  resumo  \\\n",
       "27544  Apartamento espaçoso e seguro com quarto e sal...   \n",
       "\n",
       "                                                o_espaço  \\\n",
       "27544  O apê é silencioso, andar alto, localizado na ...   \n",
       "\n",
       "                                               descrição  \\\n",
       "27544  Apartamento espaçoso e seguro com quarto e sal...   \n",
       "\n",
       "                                      visao_geral_bairro  \\\n",
       "27544  O bairro da Lapa é repleto de atraçôes diurnas...   \n",
       "\n",
       "                                             observações  \\\n",
       "27544  Há estacionamento privado nas redondezas por 2...   \n",
       "\n",
       "                                                transito  \\\n",
       "27544  Não há estacionamento no prédio mas há estacio...   \n",
       "\n",
       "                     acesso  ... noites_máximas número de reviews  \\\n",
       "27544  Ao apartamento todo.  ...           1125                70   \n",
       "\n",
       "      primeira_review  última_review avaliação_geral avaliação_limpeza  \\\n",
       "27544      2019-02-19     2019-11-19            97.0               9.0   \n",
       "\n",
       "      avaliação_checkin avaliacao_comunicação_host  avaliação_localização  \\\n",
       "27544              10.0                       10.0                   10.0   \n",
       "\n",
       "      avaliações_por_mês  \n",
       "27544               7.58  \n",
       "\n",
       "[1 rows x 48 columns]"
      ]
     },
     "execution_count": 348,
     "metadata": {},
     "output_type": "execute_result"
    }
   ],
   "source": [
    "acomo_centro.loc[acomo_centro['id']==32165301]"
   ]
  },
  {
   "cell_type": "code",
   "execution_count": 349,
   "metadata": {},
   "outputs": [
    {
     "data": {
      "text/html": [
       "<div>\n",
       "<style scoped>\n",
       "    .dataframe tbody tr th:only-of-type {\n",
       "        vertical-align: middle;\n",
       "    }\n",
       "\n",
       "    .dataframe tbody tr th {\n",
       "        vertical-align: top;\n",
       "    }\n",
       "\n",
       "    .dataframe thead th {\n",
       "        text-align: right;\n",
       "    }\n",
       "</style>\n",
       "<table border=\"1\" class=\"dataframe\">\n",
       "  <thead>\n",
       "    <tr style=\"text-align: right;\">\n",
       "      <th></th>\n",
       "      <th>id</th>\n",
       "      <th>link_da_acomodacão</th>\n",
       "      <th>nome</th>\n",
       "      <th>resumo</th>\n",
       "      <th>o_espaço</th>\n",
       "      <th>descrição</th>\n",
       "      <th>visao_geral_bairro</th>\n",
       "      <th>observações</th>\n",
       "      <th>transito</th>\n",
       "      <th>acesso</th>\n",
       "      <th>...</th>\n",
       "      <th>noites_máximas</th>\n",
       "      <th>número de reviews</th>\n",
       "      <th>primeira_review</th>\n",
       "      <th>última_review</th>\n",
       "      <th>avaliação_geral</th>\n",
       "      <th>avaliação_limpeza</th>\n",
       "      <th>avaliação_checkin</th>\n",
       "      <th>avaliacao_comunicação_host</th>\n",
       "      <th>avaliação_localização</th>\n",
       "      <th>avaliações_por_mês</th>\n",
       "    </tr>\n",
       "  </thead>\n",
       "  <tbody>\n",
       "    <tr>\n",
       "      <th>27988</th>\n",
       "      <td>32500735</td>\n",
       "      <td>https://www.airbnb.com/rooms/32500735</td>\n",
       "      <td>Apê aconchegante na Lapa! Ótima opção econômica!</td>\n",
       "      <td>O apartamwnto possui cama de casal e mais dois...</td>\n",
       "      <td>Além da cama de casal coloco dois colchões de ...</td>\n",
       "      <td>O apartamwnto possui cama de casal e mais dois...</td>\n",
       "      <td>Andando vc está na Lapa e no Centro. Em 20 min...</td>\n",
       "      <td>Há estacionamento privado nas redondezas por 2...</td>\n",
       "      <td>NaN</td>\n",
       "      <td>NaN</td>\n",
       "      <td>...</td>\n",
       "      <td>1125</td>\n",
       "      <td>57</td>\n",
       "      <td>2019-03-08</td>\n",
       "      <td>2019-11-02</td>\n",
       "      <td>97.0</td>\n",
       "      <td>10.0</td>\n",
       "      <td>10.0</td>\n",
       "      <td>10.0</td>\n",
       "      <td>10.0</td>\n",
       "      <td>6.58</td>\n",
       "    </tr>\n",
       "  </tbody>\n",
       "</table>\n",
       "<p>1 rows × 48 columns</p>\n",
       "</div>"
      ],
      "text/plain": [
       "             id                     link_da_acomodacão  \\\n",
       "27988  32500735  https://www.airbnb.com/rooms/32500735   \n",
       "\n",
       "                                                   nome  \\\n",
       "27988  Apê aconchegante na Lapa! Ótima opção econômica!   \n",
       "\n",
       "                                                  resumo  \\\n",
       "27988  O apartamwnto possui cama de casal e mais dois...   \n",
       "\n",
       "                                                o_espaço  \\\n",
       "27988  Além da cama de casal coloco dois colchões de ...   \n",
       "\n",
       "                                               descrição  \\\n",
       "27988  O apartamwnto possui cama de casal e mais dois...   \n",
       "\n",
       "                                      visao_geral_bairro  \\\n",
       "27988  Andando vc está na Lapa e no Centro. Em 20 min...   \n",
       "\n",
       "                                             observações transito acesso  ...  \\\n",
       "27988  Há estacionamento privado nas redondezas por 2...      NaN    NaN  ...   \n",
       "\n",
       "      noites_máximas número de reviews primeira_review  última_review  \\\n",
       "27988           1125                57      2019-03-08     2019-11-02   \n",
       "\n",
       "      avaliação_geral avaliação_limpeza avaliação_checkin  \\\n",
       "27988            97.0              10.0              10.0   \n",
       "\n",
       "      avaliacao_comunicação_host  avaliação_localização avaliações_por_mês  \n",
       "27988                       10.0                   10.0               6.58  \n",
       "\n",
       "[1 rows x 48 columns]"
      ]
     },
     "execution_count": 349,
     "metadata": {},
     "output_type": "execute_result"
    }
   ],
   "source": [
    "acomo_centro.loc[acomo_centro['id']==32500735]"
   ]
  },
  {
   "cell_type": "markdown",
   "metadata": {},
   "source": [
    "# Agora que temos 3 acomodações que suportam o orçamento, vamos para a análise final: o espaço de cada acomodação"
   ]
  },
  {
   "cell_type": "code",
   "execution_count": 350,
   "metadata": {},
   "outputs": [
    {
     "data": {
      "text/plain": [
       "'Local tranquilo com 3 camas. Todos os utensílios de cozinha, tábua de passar roupas, ferro elétrico. Wi-fi, tv'"
      ]
     },
     "execution_count": 350,
     "metadata": {},
     "output_type": "execute_result"
    }
   ],
   "source": [
    "acomo_centro['o_espaço'].loc[14371]"
   ]
  },
  {
   "cell_type": "code",
   "execution_count": 351,
   "metadata": {},
   "outputs": [
    {
     "data": {
      "text/plain": [
       "'O apê é silencioso, andar alto, localizado na Lapa, perto de comércio e atrações turísticas.'"
      ]
     },
     "execution_count": 351,
     "metadata": {},
     "output_type": "execute_result"
    }
   ],
   "source": [
    "acomo_centro['o_espaço'].loc[27544]"
   ]
  },
  {
   "cell_type": "code",
   "execution_count": 352,
   "metadata": {},
   "outputs": [
    {
     "data": {
      "text/plain": [
       "'Além da cama de casal coloco dois colchões de solteiro para poder oferecer o espaço para até 4 pessoas.'"
      ]
     },
     "execution_count": 352,
     "metadata": {},
     "output_type": "execute_result"
    }
   ],
   "source": [
    "acomo_centro['o_espaço'].loc[27988]"
   ]
  },
  {
   "cell_type": "markdown",
   "metadata": {},
   "source": [
    "# Seguindo as necessidades do PERFIL 1(lugar silencioso) , temos como acomodação escolhida a de  id = 32165301"
   ]
  },
  {
   "cell_type": "code",
   "execution_count": 353,
   "metadata": {},
   "outputs": [],
   "source": [
    "acomo_centro=acomo_centro.loc[acomo_centro['id']==32165301 ]"
   ]
  },
  {
   "cell_type": "markdown",
   "metadata": {},
   "source": [
    "# Informações sobre o host"
   ]
  },
  {
   "cell_type": "code",
   "execution_count": 354,
   "metadata": {},
   "outputs": [
    {
     "data": {
      "text/plain": [
       "27544    https://www.airbnb.com/users/show/79151243\n",
       "Name: host_url, dtype: object"
      ]
     },
     "execution_count": 354,
     "metadata": {},
     "output_type": "execute_result"
    }
   ],
   "source": [
    "acomo_centro.host_url"
   ]
  }
 ],
 "metadata": {
  "colab": {
   "name": "Notebook_Desafio (2).ipynb",
   "provenance": []
  },
  "kernelspec": {
   "display_name": "Python 3",
   "language": "python",
   "name": "python3"
  },
  "language_info": {
   "codemirror_mode": {
    "name": "ipython",
    "version": 3
   },
   "file_extension": ".py",
   "mimetype": "text/x-python",
   "name": "python",
   "nbconvert_exporter": "python",
   "pygments_lexer": "ipython3",
   "version": "3.8.5"
  }
 },
 "nbformat": 4,
 "nbformat_minor": 1
}
